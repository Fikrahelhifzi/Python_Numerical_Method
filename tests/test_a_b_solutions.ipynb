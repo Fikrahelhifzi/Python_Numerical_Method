{
 "cells": [
  {
   "cell_type": "code",
   "execution_count": 2,
   "metadata": {},
   "outputs": [
    {
     "name": "stdout",
     "output_type": "stream",
     "text": [
      "27036378701519.41 27036378701519.41\n"
     ]
    }
   ],
   "source": [
    "\"\"\" \n",
    "# Group A\n",
    "Q.1.1 Write a piece of Python code that:\n",
    "- Creates a dictionary: the keys of the dictionary should be even numbers from 10 to 30 (30\n",
    "included), the values of the dictionary should be square roots of corresponding keys,\n",
    "example, for keys in range (0, 4], the result would be {1: 1, 2: 1.41, 3: 1.73, 4: 2}\n",
    "- Computes the product of the values in the dictionary created in point 1. If you don’t know\n",
    "how to do the first part of the task, you can just write code for computing the product of\n",
    "values in any dictionary  \n",
    "\"\"\"\n",
    "import math as m\n",
    "\n",
    "dictionary = {k: m.sqrt(k) for k in range(10, 31)}\n",
    "product = 1\n",
    "\n",
    "for value in dictionary.values():\n",
    "    product *= value\n",
    "    \n",
    "# alternative\n",
    "dictionary = {}\n",
    "prod = 1\n",
    "for number in range(10, 31):\n",
    "    dictionary[number] = m.sqrt(number)\n",
    "    prod *= dictionary[number] # this operation could be done in another loop"
   ]
  },
  {
   "cell_type": "code",
   "execution_count": 4,
   "metadata": {},
   "outputs": [
    {
     "name": "stdout",
     "output_type": "stream",
     "text": [
      "['Today', 'the', 'temperature', 'is', '10', 'degrees']\n",
      "10\n",
      "Today the temperature is 30 degrees\n"
     ]
    }
   ],
   "source": [
    "# Group A\n",
    "# Q.1.3\n",
    "\n",
    "sentence = 'Today the temperature is 10 degrees'\n",
    "# Using string methods or indexing and slicing, return the number included in sentence;\n",
    "words = sentence.split()\n",
    "number = words[-2]\n",
    "print(number)\n",
    "# Modify the variable sentence, so that instead of a value 10, there is a value 30\n",
    "sentence_2 = sentence.replace('10', '30')\n",
    "print(sentence_2)"
   ]
  },
  {
   "cell_type": "code",
   "execution_count": 5,
   "metadata": {},
   "outputs": [
    {
     "name": "stdout",
     "output_type": "stream",
     "text": [
      "12490335695001337370155586179584503173828125000000000000000000000000000000000000000000000000000000 12490335695001337370155586179584503173828125000000000000000000000000000000000000000000000000000000\n"
     ]
    }
   ],
   "source": [
    "\"\"\" Group A\n",
    "Q2.1\n",
    "Write a piece of Python code that:\n",
    "1. Creates a list of cubed values (x3); the values that are cubed should be numbers divisible by\n",
    "5 from range 5 to 100 (100 included) (x3), example for range (1, 10], the result would be:\n",
    "[125, 1000]\n",
    "2. Computes the product of the values in the list created in point 1. If you don’t know how to\n",
    "do the first part of the task, you can just write code for computing the product of any list.\n",
    "\"\"\"\n",
    "\n",
    "cubed = [x ** 3 for x in range(5, 101) if x % 5 == 0]\n",
    "prod = 1 \n",
    "for number in cubed:\n",
    "    prod *= number\n",
    "\n",
    "# alteranative:\n",
    "cubed = []\n",
    "product = 1\n",
    "for number in range(5, 101, 5):\n",
    "    cubed.append(number ** 3)\n",
    "    # we take the last available element, \n",
    "    # can be done in two loops as well, one loop is bit more efficient\n",
    "    product *= cubed[-1] "
   ]
  },
  {
   "cell_type": "code",
   "execution_count": 6,
   "metadata": {},
   "outputs": [
    {
     "name": "stdout",
     "output_type": "stream",
     "text": [
      "the\n",
      "Today the temperature is 10 Fahrenheits\n",
      "the\n"
     ]
    }
   ],
   "source": [
    "\"\"\"\n",
    "Group A\n",
    "Q2.3\n",
    "Let sentence = ‘Today the temperature is 10 degrees’.\n",
    "1. Using string methods or indexing and slicing, return the second word (‘the’) included in\n",
    "sentence;\n",
    "2. Modify a variable sentence, so that instead of a word degrees, there is a word\n",
    "Fahrenheits\n",
    "\"\"\"\n",
    "\n",
    "sentence = 'Today the temperature is 10 degrees'\n",
    "# we split the sentence by spaces and take the word with index 1 (second element of a resulting list: l1 = sentence.split(), l1[1])\n",
    "word_the = sentence.split()[1]\n",
    "print(word_the)\n",
    "sentence_2 = sentence.replace('degrees', 'Fahrenheits')\n",
    "print(sentence_2)\n",
    "\n",
    "# looking for \"the\" with indexing:\n",
    "word = sentence[6:9]\n",
    "print(word)\n",
    "\n",
    "# split in steps:\n",
    "words = sentence.split()\n",
    "w_the = words[1]"
   ]
  },
  {
   "cell_type": "code",
   "execution_count": 12,
   "metadata": {},
   "outputs": [
    {
     "name": "stdout",
     "output_type": "stream",
     "text": [
      "type some letters73tri\n",
      "Not only letters!\n"
     ]
    }
   ],
   "source": [
    "\"\"\"\n",
    "Group B Q1.2\n",
    "Write a script that:\n",
    "Step 1. reads a string from the user.\n",
    "Step 2. verifies if the string contains only letters\n",
    "Step 3. prints “a first, o inside” when the first letter of the string is “a” and there is “o” somewhere in a\n",
    "string, , “maybe a is first, maybe there is o” when “a” is first or there is a letter “o” occuring in the\n",
    "string, or “There is no o in the string” otherwise.\n",
    "\"\"\"\n",
    "\n",
    "sentence = input(\"type some letters\")\n",
    "\n",
    "if sentence.isalpha(): # checks if only letters\n",
    "    if sentence.startswith(\"a\") and \"o\" in sentence:\n",
    "        print(\"a first, o inside\")\n",
    "    elif sentence.startswith(\"a\") or \"o\" in sentence:\n",
    "        print(\"maybe a is first, maybe there is o\")\n",
    "    else:\n",
    "        print(\"There is no o in the string\")    \n",
    "else:\n",
    "    print(\"Not only letters!\")"
   ]
  },
  {
   "cell_type": "code",
   "execution_count": 13,
   "metadata": {},
   "outputs": [
    {
     "name": "stdout",
     "output_type": "stream",
     "text": [
      "[1, 3, 5, 7, 9, 11, 13, 15, 17, 19, 21, 23, 25, 27, 29, 31, 33, 35, 37, 39, 41, 43, 45, 47, 49, 30, 32, 34, 36, 38, 40, 42, 44, 46, 48, 50, 52, 54, 56, 58, 60, 62, 64, 66, 68, 70, 72, 74, 76, 78, 80, 82, 84, 86, 88, 90, 92, 94, 96, 98, 100] [1, 3, 5, 7, 9, 11, 13, 15, 17, 19, 21, 23, 25, 27, 29, 31, 33, 35, 37, 39, 41, 43, 45, 47, 49, 30, 32, 34, 36, 38, 40, 42, 44, 46, 48, 50, 52, 54, 56, 58, 60, 62, 64, 66, 68, 70, 72, 74, 76, 78, 80, 82, 84, 86, 88, 90, 92, 94, 96, 98, 100]\n"
     ]
    }
   ],
   "source": [
    "\"\"\"\n",
    "Group B Q1.3\n",
    "Write a script that creates two list, list_1 and list_2: list_1 should contain all the odd numbers from 0 to\n",
    "50, list_2 should contain all the even numbers from 30 to 100. Use the two lists to create one long list that would include\n",
    "elements from list_1 and list_2. Do not nest the lists.\n",
    "\"\"\"\n",
    "\n",
    "list_1 = list(range(1, 50, 2)) # odd numbers in 0-50, so we must start with odd number in this range\n",
    "list_2 = list(range(30, 101, 2))\n",
    "\n",
    "list_3 = list_1 + list_2\n",
    "# or\n",
    "list_1.extend(list_2)\n",
    "print(list_3, list_1)"
   ]
  },
  {
   "cell_type": "code",
   "execution_count": 27,
   "metadata": {},
   "outputs": [
    {
     "name": "stdout",
     "output_type": "stream",
     "text": [
      "type sth 22\n",
      "Even number of 1 and 2\n"
     ]
    }
   ],
   "source": [
    "\"\"\"\n",
    "Group B Q2.2\n",
    "Write a script that:\n",
    "step 1. reads a string from the user,\n",
    "step 2. counts how many times a digit 1 and 2 appers in it (separate counts for each digit)\n",
    "step 3. prints “Even number of 1 and 2” when the 1 and 2 number is even, “Even number of 1 or\n",
    "2” when one of the counts is even or “None of the counts is even” otherwise.\n",
    "\"\"\"\n",
    "\n",
    "some_characteres = input(\"type sth \")\n",
    "count_1 = some_characteres.count(\"1\")\n",
    "count_2 = some_characteres.count(\"2\")\n",
    "if count_1 % 2 == 0  and count_2 % 2 == 0:\n",
    "    print(\"Even number of 1 and 2\")\n",
    "elif count_1 % 2 ==0 or count_2 % 2 == 0:\n",
    "    print(\"Even number of 1 or 2\")\n",
    "else:\n",
    "    print(\"None of the counts is even\")"
   ]
  },
  {
   "cell_type": "code",
   "execution_count": 20,
   "metadata": {},
   "outputs": [
    {
     "name": "stdout",
     "output_type": "stream",
     "text": [
      "{'a', 'n'} 2\n",
      "['a', 'n'] 2\n",
      "{'a', 'n'} 2\n"
     ]
    }
   ],
   "source": [
    "\"\"\"\n",
    "Group B Q2.3\n",
    "Write a script that would verify how many common characters there are in two strings. (str_1 and str_2)\n",
    "Count only unique characters. Print the answer.\n",
    "\"\"\"\n",
    "str_1 = \"banana\"\n",
    "str_2 = \"anna\"\n",
    "\n",
    "# solution 1: use sets to remove duplicates and find the common part\n",
    "set_1 = set(str_1)\n",
    "set_2 = set(str_2)\n",
    "\n",
    "common_letters = set_1.intersection(set_2)\n",
    "print(common_letters, len(common_letters))\n",
    "\n",
    "# solution 2: use loops to go through one of the words and find letters in another\n",
    "common_let = []\n",
    "for letter in str_1:\n",
    "    if letter in str_2 and letter not in common_let:\n",
    "        common_let.append(letter)\n",
    "print(common_let, len(common_let))\n",
    "\n",
    "# same as solution2, using comprehensions and set:\n",
    "common = [letter for letter in str_1 if letter in str_2]\n",
    "common = set(common) # removes duplicates\n",
    "print(common, len(common))"
   ]
  }
 ],
 "metadata": {
  "kernelspec": {
   "display_name": "Python 3",
   "language": "python",
   "name": "python3"
  },
  "language_info": {
   "codemirror_mode": {
    "name": "ipython",
    "version": 3
   },
   "file_extension": ".py",
   "mimetype": "text/x-python",
   "name": "python",
   "nbconvert_exporter": "python",
   "pygments_lexer": "ipython3",
   "version": "3.8.5"
  }
 },
 "nbformat": 4,
 "nbformat_minor": 4
}
